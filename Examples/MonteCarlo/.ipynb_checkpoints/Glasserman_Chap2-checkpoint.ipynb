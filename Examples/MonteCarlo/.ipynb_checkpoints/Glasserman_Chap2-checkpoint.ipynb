{
 "cells": [
  {
   "cell_type": "code",
   "execution_count": 1,
   "id": "05350dfa",
   "metadata": {},
   "outputs": [],
   "source": [
    "import numpy as np\n",
    "import pandas as pd\n",
    "import scipy.stats as st"
   ]
  },
  {
   "cell_type": "markdown",
   "id": "bca17b29",
   "metadata": {},
   "source": [
    "# Chapter 2: Generating numbers and random variables"
   ]
  },
  {
   "cell_type": "markdown",
   "id": "f9bc9615",
   "metadata": {},
   "source": [
    "### 2.2 Acceptance-Rejection method"
   ]
  },
  {
   "cell_type": "code",
   "execution_count": null,
   "id": "8b34048f",
   "metadata": {},
   "outputs": [],
   "source": []
  }
 ],
 "metadata": {
  "kernelspec": {
   "display_name": "Python 3 (ipykernel)",
   "language": "python",
   "name": "python3"
  },
  "language_info": {
   "codemirror_mode": {
    "name": "ipython",
    "version": 3
   },
   "file_extension": ".py",
   "mimetype": "text/x-python",
   "name": "python",
   "nbconvert_exporter": "python",
   "pygments_lexer": "ipython3",
   "version": "3.9.12"
  }
 },
 "nbformat": 4,
 "nbformat_minor": 5
}
