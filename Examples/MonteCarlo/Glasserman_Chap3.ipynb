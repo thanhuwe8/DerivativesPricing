{
 "cells": [
  {
   "cell_type": "code",
   "execution_count": 1,
   "id": "cf97c453",
   "metadata": {},
   "outputs": [],
   "source": [
    "import numpy as np\n",
    "import pandas as pd"
   ]
  },
  {
   "cell_type": "markdown",
   "id": "8530530b",
   "metadata": {},
   "source": [
    "# Chapter 3: Generating Sample Paths"
   ]
  },
  {
   "cell_type": "markdown",
   "id": "9ba86869",
   "metadata": {},
   "source": [
    "# 3.1 Brownian Motion"
   ]
  },
  {
   "cell_type": "markdown",
   "id": "3d8ab2d9",
   "metadata": {},
   "source": [
    "### Random Walk Construction"
   ]
  },
  {
   "cell_type": "markdown",
   "id": "38bce774",
   "metadata": {},
   "source": [
    "For a standard Brownian motion set\n",
    "$ t_0 = 0$ and $W_0 = 0$\n",
    "\n",
    "Subsequent values can be generated as follows:\n",
    "\n",
    "$ W(t_{i+1}) = W(t_i) + \\displaystyle\\sqrt{(t_{i+1} - t_{i})} Z_{i+1}$ with $ i = 0, \\cdots, n-1 $\n"
   ]
  },
  {
   "cell_type": "markdown",
   "id": "670b9135",
   "metadata": {},
   "source": [
    "Applying Euler discretization for example below:\n",
    "\n",
    "$ T = 1$\n",
    "\n",
    "$ n = 10$\n",
    "\n",
    "$ \\Delta t = 0.1$\n",
    "\n",
    "$ W_{(0)} = 0 $ "
   ]
  },
  {
   "cell_type": "code",
   "execution_count": 5,
   "id": "8b9908ce",
   "metadata": {},
   "outputs": [
    {
     "name": "stdout",
     "output_type": "stream",
     "text": [
      "[ 0.         -0.1266734   0.61461965  0.12543589  0.30238457  0.69294906\n",
      "  0.53631774  0.18104401 -0.12399327 -0.66391632 -0.63589971]\n"
     ]
    }
   ],
   "source": [
    "n = 10\n",
    "T = 1\n",
    "dt = T/n\n",
    "\n",
    "Z = np.random.normal(0.0, 1.0, n)\n",
    "W = np.zeros(n+1)\n",
    "for i in range(0,n):\n",
    "    W[i+1] = W[i] + np.sqrt(dt)*Z[i]\n",
    "print(W)"
   ]
  },
  {
   "cell_type": "markdown",
   "id": "d52f2442",
   "metadata": {},
   "source": [
    "### Cholesky Factorization\n",
    "\n",
    "Detail of mathematical treatment can be found at Monte Carlo methods for financial engineering - Paul Glasserman (2004), Chapter 3. \n",
    "\n",
    "Below is the simulation for the vector $(W_{(t_1)}, \\cdots , W_{(t_n)}) \\sim N(0, C) $ where $C_{ij} = min(t_i, t_j) $"
   ]
  },
  {
   "cell_type": "code",
   "execution_count": 10,
   "id": "be021198",
   "metadata": {},
   "outputs": [],
   "source": [
    "n = 10\n",
    "dt = 1/n\n",
    "Z = np.random.normal(0.0,1.0,[n])\n",
    "A = np.zeros([n,n])\n",
    "T = np.ones([n])\n",
    "T = T*dt\n",
    "for ix,x in enumerate(A):\n",
    "    for iy,y in enumerate(x):\n",
    "        if ix >= iy:\n",
    "            A[ix,iy] = dt\n",
    "path_value = np.matmul(A,Z)"
   ]
  },
  {
   "cell_type": "code",
   "execution_count": 8,
   "id": "c5284116",
   "metadata": {},
   "outputs": [
    {
     "name": "stdout",
     "output_type": "stream",
     "text": [
      "[[0.1 0.  0.  0.  0.  0.  0.  0.  0.  0. ]\n",
      " [0.1 0.1 0.  0.  0.  0.  0.  0.  0.  0. ]\n",
      " [0.1 0.1 0.1 0.  0.  0.  0.  0.  0.  0. ]\n",
      " [0.1 0.1 0.1 0.1 0.  0.  0.  0.  0.  0. ]\n",
      " [0.1 0.1 0.1 0.1 0.1 0.  0.  0.  0.  0. ]\n",
      " [0.1 0.1 0.1 0.1 0.1 0.1 0.  0.  0.  0. ]\n",
      " [0.1 0.1 0.1 0.1 0.1 0.1 0.1 0.  0.  0. ]\n",
      " [0.1 0.1 0.1 0.1 0.1 0.1 0.1 0.1 0.  0. ]\n",
      " [0.1 0.1 0.1 0.1 0.1 0.1 0.1 0.1 0.1 0. ]\n",
      " [0.1 0.1 0.1 0.1 0.1 0.1 0.1 0.1 0.1 0.1]]\n"
     ]
    }
   ],
   "source": [
    "print(A)"
   ]
  },
  {
   "cell_type": "code",
   "execution_count": 9,
   "id": "a55d6819",
   "metadata": {},
   "outputs": [
    {
     "name": "stdout",
     "output_type": "stream",
     "text": [
      "[-0.23677412 -2.00267524  0.8191191  -0.56519498  0.28917609  0.12923836\n",
      " -0.82793244 -1.35739883 -1.29482562  0.07775834]\n"
     ]
    }
   ],
   "source": [
    "print(Z)"
   ]
  },
  {
   "cell_type": "code",
   "execution_count": 11,
   "id": "223aed48",
   "metadata": {},
   "outputs": [
    {
     "name": "stdout",
     "output_type": "stream",
     "text": [
      "[-0.09822471  0.0394733   0.12424733  0.14711487 -0.01795855  0.18622611\n",
      "  0.21363905  0.25234093  0.1423532   0.25934345]\n"
     ]
    }
   ],
   "source": [
    "print(path_value)"
   ]
  },
  {
   "cell_type": "code",
   "execution_count": null,
   "id": "369d98e3",
   "metadata": {},
   "outputs": [],
   "source": []
  },
  {
   "cell_type": "markdown",
   "id": "ba267fc3",
   "metadata": {},
   "source": [
    "### Brownian Bridge Construction"
   ]
  },
  {
   "cell_type": "markdown",
   "id": "a2f629e8",
   "metadata": {},
   "source": [
    "### Principal Components Construction"
   ]
  },
  {
   "cell_type": "markdown",
   "id": "07ca44a2",
   "metadata": {},
   "source": [
    "## 3.1.2 Multiple Dimensions"
   ]
  },
  {
   "cell_type": "markdown",
   "id": "153e90f3",
   "metadata": {},
   "source": [
    "### Random Walk Construction"
   ]
  },
  {
   "cell_type": "markdown",
   "id": "d5c473d8",
   "metadata": {},
   "source": [
    "### Brownian Bridge Construction"
   ]
  },
  {
   "cell_type": "markdown",
   "id": "8999ae7d",
   "metadata": {},
   "source": [
    "### Principal Components Construction"
   ]
  },
  {
   "cell_type": "markdown",
   "id": "39fd22db",
   "metadata": {},
   "source": [
    "# 3.2 Geometric Brownian Motion"
   ]
  },
  {
   "cell_type": "markdown",
   "id": "bcac0989",
   "metadata": {},
   "source": [
    "## 3.1.1 One Dimension"
   ]
  },
  {
   "cell_type": "markdown",
   "id": "bfb620bb",
   "metadata": {},
   "source": [
    "## 3.1.1 One Dimension"
   ]
  },
  {
   "cell_type": "code",
   "execution_count": null,
   "id": "0ad2c978",
   "metadata": {},
   "outputs": [],
   "source": []
  }
 ],
 "metadata": {
  "kernelspec": {
   "display_name": "Python 3 (ipykernel)",
   "language": "python",
   "name": "python3"
  },
  "language_info": {
   "codemirror_mode": {
    "name": "ipython",
    "version": 3
   },
   "file_extension": ".py",
   "mimetype": "text/x-python",
   "name": "python",
   "nbconvert_exporter": "python",
   "pygments_lexer": "ipython3",
   "version": "3.9.12"
  }
 },
 "nbformat": 4,
 "nbformat_minor": 5
}
